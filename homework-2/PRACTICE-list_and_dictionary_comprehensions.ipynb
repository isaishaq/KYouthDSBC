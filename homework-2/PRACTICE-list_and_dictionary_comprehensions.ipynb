{
 "cells": [
  {
   "cell_type": "markdown",
   "id": "ed6dc721",
   "metadata": {},
   "source": [
    "<img src=\"http://imgur.com/1ZcRyrc.png\" style=\"float: left; margin: 20px; height: 55px\">\n",
    "\n",
    "## Practice : List and Dictionary Comprehensions\n",
    "\n",
    "---\n",
    "\n",
    "Practice essentials of performing list and dictionary comprehensions in Python."
   ]
  },
  {
   "cell_type": "code",
   "execution_count": null,
   "id": "d5573344",
   "metadata": {},
   "outputs": [],
   "source": [
    "import numpy as np\n",
    "import string"
   ]
  },
  {
   "cell_type": "markdown",
   "id": "653884d1",
   "metadata": {},
   "source": [
    "\n",
    "### Section 1: List comprehensions\n",
    "\n",
    "##### 1) Add 1 to every element in the list."
   ]
  },
  {
   "cell_type": "code",
   "execution_count": 1,
   "id": "e360aa54",
   "metadata": {},
   "outputs": [
    {
     "data": {
      "text/plain": [
       "[1, 2, 3, 4, 5, 6, 7, 8, 9, 10]"
      ]
     },
     "execution_count": 1,
     "metadata": {},
     "output_type": "execute_result"
    }
   ],
   "source": [
    "numbers = [0,1,2,3,4,5,6,7,8,9]\n",
    "\n",
    "numbers = [number+1 for number in numbers]\n",
    "numbers"
   ]
  },
  {
   "cell_type": "markdown",
   "id": "cecd2241",
   "metadata": {},
   "source": [
    "#####  2) Binarize\" n so that any value greater than or equal to the mean of n is 1, otherwise 0."
   ]
  },
  {
   "cell_type": "code",
   "execution_count": 5,
   "id": "0323a527",
   "metadata": {},
   "outputs": [
    {
     "data": {
      "text/plain": [
       "[0, 0, 0, 1, 0, 0, 1, 0, 1, 0, 1, 1, 0, 0, 0]"
      ]
     },
     "execution_count": 5,
     "metadata": {},
     "output_type": "execute_result"
    }
   ],
   "source": [
    "n = [1, 2, 7, 21, 3, 1, 62, 3, 34, 12, 73, 44, 12, 11, 9]\n",
    "n = [1 if item>=sum(n)/len(n) else 0 for item in n]\n",
    "n"
   ]
  },
  {
   "cell_type": "markdown",
   "id": "eed09238",
   "metadata": {},
   "source": [
    "#####  3) Get the square and square root of all non-negative numbers in the list."
   ]
  },
  {
   "cell_type": "code",
   "execution_count": 9,
   "id": "c42a5562",
   "metadata": {},
   "outputs": [
    {
     "data": {
      "text/plain": [
       "[(1, 1.0), (2500, 7.0710678118654755), (5625, 8.660254037844387)]"
      ]
     },
     "execution_count": 9,
     "metadata": {},
     "output_type": "execute_result"
    }
   ],
   "source": [
    "n = [0, 1, 50, -23, -1, 75, -3]\n",
    "n = [(item**2,item**(1/2)) for item in n if item>0]\n",
    "n"
   ]
  },
  {
   "cell_type": "markdown",
   "id": "88f3af3f",
   "metadata": {},
   "source": [
    "##### 4) Combine elements of these two lists item by item into list pairs:\n",
    "result should be: `[['a', 'z'], ['b', 'y'], ['c', 'x'], ['d', 'w']]`"
   ]
  },
  {
   "cell_type": "code",
   "execution_count": 15,
   "id": "5d6445cb",
   "metadata": {},
   "outputs": [
    {
     "data": {
      "text/plain": [
       "[['a', 'z'], ['b', 'y'], ['c', 'x'], ['d', 'w']]"
      ]
     },
     "execution_count": 15,
     "metadata": {},
     "output_type": "execute_result"
    }
   ],
   "source": [
    "a = ['a','b','c','d']\n",
    "z = ['z','y','x','w']\n",
    "# zipped = zip(a,z)\n",
    "item = [[a,z] for a,z in zip(a,z)]\n",
    "item"
   ]
  },
  {
   "cell_type": "markdown",
   "id": "a8bb4a84",
   "metadata": {},
   "source": [
    "##### 5) Pair each index and element in this list into list pairs:\n",
    "result should be: `[[0, 'a'], [1, 'b'], [2, 'c'], [3, 'd']]`"
   ]
  },
  {
   "cell_type": "code",
   "execution_count": 20,
   "id": "c8dc3be9",
   "metadata": {},
   "outputs": [
    {
     "data": {
      "text/plain": [
       "[[0, 'a'], [1, 'b'], [2, 'c'], [3, 'd']]"
      ]
     },
     "execution_count": 20,
     "metadata": {},
     "output_type": "execute_result"
    }
   ],
   "source": [
    "a = ['a','b','c','d']\n",
    "item = [[num,a] for num,a in enumerate(a)]\n",
    "item"
   ]
  },
  {
   "cell_type": "markdown",
   "id": "f3e5175b",
   "metadata": {},
   "source": [
    "### Section 2: Dictionary comprehensions\n",
    "\n",
    "##### 6) Make a dictionary in which keys are animals and values are lists, storing the [ASCII](http://www.asciitable.com/) number value of each character in the key, eg `'dog': [100, 111, 103]`\n",
    "\n",
    "Hint: Use the **`ord()`** function to convert characters into their ASCII values.\n"
   ]
  },
  {
   "cell_type": "code",
   "execution_count": 30,
   "id": "ab7ffa14",
   "metadata": {},
   "outputs": [
    {
     "data": {
      "text/plain": [
       "{'dog': [100, 111, 103],\n",
       " 'cat': [99, 97, 116],\n",
       " 'bird': [98, 105, 114, 100],\n",
       " 'horse': [104, 111, 114, 115, 101]}"
      ]
     },
     "execution_count": 30,
     "metadata": {},
     "output_type": "execute_result"
    }
   ],
   "source": [
    "keys = ['dog', 'cat', 'bird', 'horse']\n",
    "char_ascii = [[ord(i) for i in item] for item in keys]\n",
    "\n",
    "pair = {key:num for key,num in zip(keys,char_ascii)}\n",
    "pair\n"
   ]
  },
  {
   "cell_type": "markdown",
   "id": "ff3a447f",
   "metadata": {},
   "source": [
    "##### 7) Create a dictionary with these column names and the corresponding column values."
   ]
  },
  {
   "cell_type": "code",
   "execution_count": 31,
   "id": "6b3952a6",
   "metadata": {},
   "outputs": [
    {
     "data": {
      "text/plain": [
       "{'height': [62, 54, 60, 50],\n",
       " 'weight': [180, 120, 200, 100],\n",
       " 'is_male': [True, False, True, False]}"
      ]
     },
     "execution_count": 31,
     "metadata": {},
     "output_type": "execute_result"
    }
   ],
   "source": [
    "column_names = ['height','weight','is_male']\n",
    "values = [[62, 54, 60, 50], [180, 120, 200, 100], [True, False, True, False]]\n",
    "\n",
    "frame = {col:val for col,val in zip(column_names,values)}\n",
    "frame"
   ]
  },
  {
   "cell_type": "code",
   "execution_count": null,
   "id": "f5a03d3d",
   "metadata": {},
   "outputs": [],
   "source": []
  }
 ],
 "metadata": {
  "kernelspec": {
   "display_name": "Python 3",
   "language": "python",
   "name": "python3"
  },
  "language_info": {
   "codemirror_mode": {
    "name": "ipython",
    "version": 3
   },
   "file_extension": ".py",
   "mimetype": "text/x-python",
   "name": "python",
   "nbconvert_exporter": "python",
   "pygments_lexer": "ipython3",
   "version": "3.8.8"
  }
 },
 "nbformat": 4,
 "nbformat_minor": 5
}
